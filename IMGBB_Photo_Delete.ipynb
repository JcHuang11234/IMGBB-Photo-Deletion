{
 "cells": [
  {
   "cell_type": "code",
   "execution_count": null,
   "id": "b5ff28fd-ade0-444d-ab38-f626f609f5ac",
   "metadata": {},
   "outputs": [],
   "source": [
    "from selenium import webdriver\n",
    "from selenium.webdriver.common.by import By\n",
    "from selenium.webdriver.firefox.service import Service\n",
    "from selenium.webdriver.firefox.options import Options\n",
    "import time\n",
    "from selenium.webdriver.common.by import By\n"
   ]
  },
  {
   "cell_type": "code",
   "execution_count": null,
   "id": "7e5e9c74-1b7c-4d40-93b0-8a1436550199",
   "metadata": {},
   "outputs": [],
   "source": [
    "options = Options()\n",
    "options.headless = False  # Set to True if you want to run it without opening the browser window\n",
    "driver = webdriver.Firefox(options=options)"
   ]
  },
  {
   "cell_type": "code",
   "execution_count": null,
   "id": "a750706f-0fa0-4589-9b01-a3058bb9cc3f",
   "metadata": {},
   "outputs": [],
   "source": [
    "driver.get(\"https://imgbb.com/login\")\n",
    "\n",
    "# Find email and password fields and fill them\n",
    "email_field = driver.find_element(By.ID, \"login-subject\")\n",
    "email_field.send_keys(\"YOUR-EMAIL-ADDRESS\")\n",
    "\n",
    "password_field = driver.find_element(By.ID, \"login-password\")\n",
    "password_field.send_keys(\"YOUR-PASSWORD\")\n",
    "\n",
    "# Click the 'Sign in' button\n",
    "sign_in_button = driver.find_element(By.XPATH, \"//button[@type='submit']\")\n",
    "sign_in_button.click()"
   ]
  },
  {
   "cell_type": "code",
   "execution_count": null,
   "id": "fc76ea78-8ebe-44cf-90f8-61fd5eff2715",
   "metadata": {},
   "outputs": [],
   "source": [
    "total_photos = int(input(\"Enter the total number of photos you want to delete: \"))\n",
    "\n",
    "# Calculate the number of iterations needed (each iteration deletes 32 photos)\n",
    "iterations = total_photos // 32\n",
    "if total_photos % 32 != 0:\n",
    "    iterations += 1  # Add an extra iteration for the remaining photos\n"
   ]
  },
  {
   "cell_type": "code",
   "execution_count": null,
   "id": "06bdea25-5b71-4c1c-9ffc-44145738b7a0",
   "metadata": {},
   "outputs": [],
   "source": [
    "for _ in range(iterations):\n",
    "    try:\n",
    "        # Click the Select All element\n",
    "        select_all_button = driver.find_element(By.XPATH, \"//a[@data-action='list-select-all']\")\n",
    "        select_all_button.click()\n",
    "        time.sleep(1)\n",
    "\n",
    "        # Find and click the Operate button\n",
    "        operate_button = driver.find_element(By.XPATH, \"//span[@data-content='label']\")\n",
    "        operate_button.click()\n",
    "        time.sleep(1)\n",
    "\n",
    "        # Find and click the Delete button\n",
    "        delete_button = driver.find_element(By.XPATH, \"//a[@data-action='delete']\")\n",
    "        delete_button.click()\n",
    "        time.sleep(1)\n",
    "\n",
    "        # Find and click the Confirm button in the modal\n",
    "        confirm_button = driver.find_element(By.XPATH, \"//button[@data-action='submit']\")\n",
    "        confirm_button.click()\n",
    "        time.sleep(1)\n",
    "\n",
    "    except Exception as e:\n",
    "        print(f\"An error occurred: {e}\")\n",
    "        # Optionally refresh the page or try the action again\n",
    "        driver.refresh()\n",
    "        time.sleep(5)  # Give time for the page to reload before retrying"
   ]
  },
  {
   "cell_type": "code",
   "execution_count": null,
   "id": "2adfb380-7481-46a1-bcf0-13d2a61dd1da",
   "metadata": {},
   "outputs": [],
   "source": [
    "\n",
    "# Close the browser after operations\n",
    "driver.quit()"
   ]
  }
 ],
 "metadata": {
  "kernelspec": {
   "display_name": "Python 3 (ipykernel)",
   "language": "python",
   "name": "python3"
  },
  "language_info": {
   "codemirror_mode": {
    "name": "ipython",
    "version": 3
   },
   "file_extension": ".py",
   "mimetype": "text/x-python",
   "name": "python",
   "nbconvert_exporter": "python",
   "pygments_lexer": "ipython3",
   "version": "3.11.8"
  }
 },
 "nbformat": 4,
 "nbformat_minor": 5
}
